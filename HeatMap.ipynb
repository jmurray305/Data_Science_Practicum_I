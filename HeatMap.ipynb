{
 "cells": [
  {
   "cell_type": "code",
   "execution_count": 1,
   "metadata": {},
   "outputs": [],
   "source": [
    "import os\n",
    "import gmaps\n",
    "import pandas as pd\n",
    "figure_layout = {'width': '500px', 'margin': '0 auto 0 auto'}\n"
   ]
  },
  {
   "cell_type": "code",
   "execution_count": 2,
   "metadata": {},
   "outputs": [],
   "source": [
    "#Setting up API key, Set as an Environment Variables\n",
    "gmaps.configure(api_key=os.environ[\"GOOGLE_API_KEY\"])"
   ]
  },
  {
   "cell_type": "code",
   "execution_count": 36,
   "metadata": {},
   "outputs": [],
   "source": [
    "df = pd.read_csv('data/crime.csv')\n"
   ]
  },
  {
   "cell_type": "code",
   "execution_count": 37,
   "metadata": {},
   "outputs": [
    {
     "data": {
      "text/plain": [
       "OFFENSE_CODE  OFFENSE_TYPE_ID               \n",
       "1102          sex-aslt-rape                     2269\n",
       "              sex-aslt-rape-pot                  154\n",
       "1109          sex-aslt-non-rape                  536\n",
       "              sex-aslt-non-rape-pot              124\n",
       "1113          sex-asslt-sodomy-man-strng-arm       1\n",
       "1199          sex-aslt-w-object                   31\n",
       "              sex-aslt-w-object-pot                6\n",
       "3601          sex-aslt-fondle-adult-victim       841\n",
       "dtype: int64"
      ]
     },
     "metadata": {},
     "output_type": "display_data"
    }
   ],
   "source": [
    "other = df[df['OFFENSE_CATEGORY_ID']=='sexual-assault']\n",
    "group=display(other.groupby([other.OFFENSE_CODE,other.OFFENSE_TYPE_ID]).size())"
   ]
  },
  {
   "cell_type": "code",
   "execution_count": 4,
   "metadata": {},
   "outputs": [],
   "source": [
    "#Grabbing columns i want to use and cutting the data down so it can run through GMAP figures\n",
    "df2 = df[['GEO_LON','GEO_LAT','OFFENSE_CATEGORY_ID','OFFENSE_TYPE_ID','IS_CRIME']]\n",
    "subset = round(len(df2)/3)\n"
   ]
  },
  {
   "cell_type": "code",
   "execution_count": 5,
   "metadata": {},
   "outputs": [
    {
     "data": {
      "text/plain": [
       "(159422, 5)"
      ]
     },
     "execution_count": 5,
     "metadata": {},
     "output_type": "execute_result"
    }
   ],
   "source": [
    "#Subsetting data and removing nulls\n",
    "df2 = df2[:subset]\n",
    "\n",
    "df2.dropna(inplace=True)\n",
    "df2.shape"
   ]
  },
  {
   "cell_type": "code",
   "execution_count": 6,
   "metadata": {},
   "outputs": [],
   "source": [
    "#Filter out Traffic Stops\n",
    "df2 = df2[df2.IS_CRIME == 1]"
   ]
  },
  {
   "cell_type": "code",
   "execution_count": 7,
   "metadata": {},
   "outputs": [],
   "source": [
    "# # locations = df2[['GEO_LAT','GEO_LON']]\n",
    "# fig = gmaps.figure(map_type='HYBRID')\n",
    "# fig.add_layer(heatmap_layer)\n",
    "# # fig"
   ]
  },
  {
   "cell_type": "code",
   "execution_count": 46,
   "metadata": {},
   "outputs": [],
   "source": [
    "locations = df2[['GEO_LAT','GEO_LON']]\n",
    "pub_dis = df2[df2.OFFENSE_CATEGORY_ID == 'public-disorder']\n",
    "larceny = df2[df2.OFFENSE_CATEGORY_ID == 'larceny']\n",
    "drug_alcohol = df2[df2.OFFENSE_CATEGORY_ID == 'drug-alcohol']\n",
    "theft_from_car = df2[df2.OFFENSE_CATEGORY_ID == 'theft-from-motor-vehicle']\n",
    "sex_assault = df[df.OFFENSE_CATEGORY_ID == 'sexual-assault']\n",
    "murder =df[df.OFFENSE_CATEGORY_ID == 'murder']\n",
    "pub_loc = pub_dis[['GEO_LAT','GEO_LON']]\n",
    "lar_loc = larceny[['GEO_LAT','GEO_LON']]\n",
    "drug_alcohol_loc = drug_alcohol[['GEO_LAT','GEO_LON']]\n",
    "theft_from_car_loc = theft_from_car[['GEO_LAT','GEO_LON']]\n",
    "murder_loc = murder[['GEO_LAT','GEO_LON']]"
   ]
  },
  {
   "cell_type": "code",
   "execution_count": 47,
   "metadata": {},
   "outputs": [
    {
     "data": {
      "application/vnd.jupyter.widget-view+json": {
       "model_id": "6a2586b828e0452998367c107a2d95ac",
       "version_major": 2,
       "version_minor": 0
      },
      "text/plain": [
       "A Jupyter Widget"
      ]
     },
     "metadata": {},
     "output_type": "display_data"
    }
   ],
   "source": [
    "\n",
    "fig = gmaps.figure(layout=figure_layout,map_type='HYBRID')\n",
    "heatmap_layer = gmaps.heatmap_layer(murder_loc)\n",
    "fig.add_layer(heatmap_layer)\n",
    "fig\n"
   ]
  },
  {
   "cell_type": "code",
   "execution_count": 56,
   "metadata": {},
   "outputs": [],
   "source": [
    "heatmap_layer.max_intensity = 10\n",
    "heatmap_layer.point_radius = 10"
   ]
  },
  {
   "cell_type": "code",
   "execution_count": 22,
   "metadata": {},
   "outputs": [
    {
     "data": {
      "application/vnd.jupyter.widget-view+json": {
       "model_id": "20594e24991d4805bba13fe07096b57e",
       "version_major": 2,
       "version_minor": 0
      },
      "text/plain": [
       "A Jupyter Widget"
      ]
     },
     "metadata": {},
     "output_type": "display_data"
    }
   ],
   "source": [
    "fig = gmaps.figure(layout=figure_layout,map_type='HYBRID')\n",
    "heatmap_layer = gmaps.heatmap_layer(pub_loc)\n",
    "fig.add_layer(heatmap_layer)\n",
    "fig"
   ]
  },
  {
   "cell_type": "code",
   "execution_count": 13,
   "metadata": {},
   "outputs": [
    {
     "data": {
      "application/vnd.jupyter.widget-view+json": {
       "model_id": "0658cd82f008458a9dd8ee16d5712a21",
       "version_major": 2,
       "version_minor": 0
      },
      "text/plain": [
       "A Jupyter Widget"
      ]
     },
     "metadata": {},
     "output_type": "display_data"
    }
   ],
   "source": [
    "fig = gmaps.figure(layout=figure_layout,map_type='HYBRID')\n",
    "heatmap_layer = gmaps.heatmap_layer(lar_loc)\n",
    "fig.add_layer(heatmap_layer)\n",
    "fig"
   ]
  },
  {
   "cell_type": "code",
   "execution_count": 14,
   "metadata": {},
   "outputs": [
    {
     "data": {
      "application/vnd.jupyter.widget-view+json": {
       "model_id": "a7dcafc6018b4fbe82198ba1815f5431",
       "version_major": 2,
       "version_minor": 0
      },
      "text/plain": [
       "A Jupyter Widget"
      ]
     },
     "metadata": {},
     "output_type": "display_data"
    }
   ],
   "source": [
    "fig = gmaps.figure(layout=figure_layout,map_type='HYBRID')\n",
    "heatmap_layer = gmaps.heatmap_layer(drug_alcohol_loc)\n",
    "fig.add_layer(heatmap_layer)\n",
    "fig"
   ]
  },
  {
   "cell_type": "code",
   "execution_count": 14,
   "metadata": {},
   "outputs": [],
   "source": [
    "#adjusting setting of heat map not needed after each fig but added it for easy\n",
    "heatmap_layer.max_intensity = 75\n",
    "heatmap_layer.point_radius = 5"
   ]
  },
  {
   "cell_type": "code",
   "execution_count": 15,
   "metadata": {},
   "outputs": [
    {
     "data": {
      "application/vnd.jupyter.widget-view+json": {
       "model_id": "bc9c4f4c17514774b5374e77b32836c6",
       "version_major": 2,
       "version_minor": 0
      },
      "text/plain": [
       "A Jupyter Widget"
      ]
     },
     "metadata": {},
     "output_type": "display_data"
    }
   ],
   "source": [
    "fig = gmaps.figure(layout=figure_layout,map_type='HYBRID')\n",
    "heatmap_layer = gmaps.heatmap_layer(theft_from_car_loc)\n",
    "fig.add_layer(heatmap_layer)\n",
    "fig"
   ]
  },
  {
   "cell_type": "code",
   "execution_count": 16,
   "metadata": {},
   "outputs": [],
   "source": [
    "#adjusting setting of heat map not needed after each fig but added it for easy\n",
    "heatmap_layer.max_intensity = 75\n",
    "heatmap_layer.point_radius = 6"
   ]
  },
  {
   "cell_type": "code",
   "execution_count": 17,
   "metadata": {},
   "outputs": [],
   "source": [
    "#setting layers for multiple location display\n",
    "larceny_layer = gmaps.symbol_layer(\n",
    "    lar_loc, fill_color='rgba(200, 0, 0, 0.4)',\n",
    "    stroke_color='rgba(200, 0, 0, 0.4)', scale=2)\n",
    "\n",
    "drug_layer = gmaps.symbol_layer(\n",
    "    drug_alcohol_loc, fill_color='rgba(0, 150, 0, 0.4)',\n",
    "    stroke_color='rgba(0, 150, 0, 0.4)', scale=1)\n",
    "\n",
    "pub_layer= gmaps.symbol_layer(\n",
    "    pub_loc, fill_color='rgba(0, 0, 255,0.4)',\n",
    "    stroke_color='rgba(0, 0, 255, 0.4)', scale=1)\n",
    "\n",
    "theft_from_car_layer = gmaps.symbol_layer(\n",
    "    theft_from_car_loc, fill_color='rgba(255, 0, 255, 0.99)',\n",
    "    stroke_color='rgba(255, 0, 255, 0.99)', scale=2)"
   ]
  },
  {
   "cell_type": "code",
   "execution_count": 18,
   "metadata": {},
   "outputs": [],
   "source": [
    "# fig = gmaps.figure()\n",
    "# fig.add_layer(pub_loc)\n",
    "# fig.add_layer(theft_from_car_locm_car)\n",
    "# fig.add_layer(larceny_loc)\n",
    "# fig.add_layer(drug_alcohol_loc)\n",
    "# fig"
   ]
  },
  {
   "cell_type": "code",
   "execution_count": null,
   "metadata": {},
   "outputs": [],
   "source": []
  }
 ],
 "metadata": {
  "kernelspec": {
   "display_name": "Python 3",
   "language": "python",
   "name": "python3"
  },
  "language_info": {
   "codemirror_mode": {
    "name": "ipython",
    "version": 3
   },
   "file_extension": ".py",
   "mimetype": "text/x-python",
   "name": "python",
   "nbconvert_exporter": "python",
   "pygments_lexer": "ipython3",
   "version": "3.6.8"
  }
 },
 "nbformat": 4,
 "nbformat_minor": 2
}
